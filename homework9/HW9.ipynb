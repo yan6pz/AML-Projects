{
 "cells": [
  {
   "cell_type": "markdown",
   "metadata": {
    "colab_type": "text",
    "id": "DvRcQIxISJ30"
   },
   "source": [
    "# **Homework 9: Variational Autoencoders**"
   ]
  },
  {
   "cell_type": "markdown",
   "metadata": {
    "colab_type": "text",
    "id": "tJQ_deIUSca8"
   },
   "source": [
    "## **About**\n",
    "\n",
    "### **Due**\n",
    "\n",
    "Monday 4/22/19, 11:59 PM CST\n",
    "\n",
    "### **Goal**\n",
    "\n",
    "This homework focuses on creating variational autoencoders applied to the MNIST dataset."
   ]
  },
  {
   "cell_type": "markdown",
   "metadata": {
    "colab_type": "text",
    "id": "d_TOu0F9Sze-"
   },
   "source": [
    "## Dev Environment\n",
    "### Working on Google Colab\n",
    "You may choose to work locally or on Google Colaboratory. You have access to free compute through this service. \n",
    "1. Visit https://colab.research.google.com/drive \n",
    "2. Navigate to the **`Upload`** tab, and upload your `HW10.ipynb`\n",
    "3. Now on the top right corner, under the `Comment` and `Share` options, you should see a `Connect` option. Once you are connected, you will have access to a VM with 12GB RAM, 50 GB disk space and a single GPU. The dropdown menu will allow you to connect to a local runtime as well.\n",
    "\n",
    "**Notes:** \n",
    "* **If you do not have a working setup for Python 3, this is your best bet. It will also save you from heavy installations like `tensorflow` if you don't want to deal with those.**\n",
    "* ***There is a downside*. You can only use this instance for a single 12-hour stretch, after which your data will be deleted, and you would have redownload all your datasets, any libraries not already on the VM, and regenerate your logs**.\n",
    "\n",
    "\n",
    "### Installing PyTorch and Dependencies\n",
    "\n",
    "The instructions for installing and setting up PyTorch can be found at https://pytorch.org/get-started/locally/. Make sure you follow the instructions for your machine. For any of the remaining libraries used in this assignment:\n",
    "* We have provided a `hw8_requirements.txt` file on the homework web page. \n",
    "* Download this file, and in the same directory you can run `pip3 install -r hw8_requirements.txt`\n",
    "\n",
    "Check that PyTorch installed correctly by running the following:"
   ]
  },
  {
   "cell_type": "code",
   "execution_count": 1,
   "metadata": {
    "colab": {},
    "colab_type": "code",
    "id": "YB1d0Rm6SWiB"
   },
   "outputs": [
    {
     "data": {
      "text/plain": [
       "tensor([[0.8733, 0.1544, 0.2230],\n",
       "        [0.3437, 0.2659, 0.7604],\n",
       "        [0.2373, 0.3351, 0.9673],\n",
       "        [0.6754, 0.8740, 0.7748],\n",
       "        [0.6301, 0.2999, 0.9842]])"
      ]
     },
     "execution_count": 1,
     "metadata": {},
     "output_type": "execute_result"
    }
   ],
   "source": [
    "import torch\n",
    "torch.rand(5, 3)"
   ]
  },
  {
   "cell_type": "markdown",
   "metadata": {
    "colab_type": "text",
    "id": "4dLgW4qRTEqj"
   },
   "source": [
    "The output should look something like\n",
    "\n",
    "```python\n",
    "tensor([[0.3380, 0.3845, 0.3217],\n",
    "        [0.8337, 0.9050, 0.2650],\n",
    "        [0.2979, 0.7141, 0.9069],\n",
    "        [0.1449, 0.1132, 0.1375],\n",
    "        [0.4675, 0.3947, 0.1426]])\n",
    "```\n",
    "\n",
    "### Let's get started with the assignment."
   ]
  },
  {
   "cell_type": "markdown",
   "metadata": {
    "colab_type": "text",
    "id": "ysPO_A4iTJvm"
   },
   "source": [
    "## **Instructions**\n",
    "\n",
    "### **Part 1 - Datasets and Dataloaders**\n",
    "\n",
    "This part of the assignment is similar to HW 8. \n",
    "\n",
    "**Create a directory named hw9_data with the following command.**"
   ]
  },
  {
   "cell_type": "code",
   "execution_count": null,
   "metadata": {
    "colab": {},
    "colab_type": "code",
    "id": "VFBEkk5aT0Xy"
   },
   "outputs": [],
   "source": [
    "!mkdir hw9_data"
   ]
  },
  {
   "cell_type": "markdown",
   "metadata": {
    "colab_type": "text",
    "id": "3UK59qgDT7pU"
   },
   "source": [
    "\n",
    "**Now use `torch.datasets.MNIST` to load the Train and Test data into `hw9_data`.** \n",
    "* ** Use the directory you created above as the `root` directory for your datasets**\n",
    "* ** Populate the `transformations` variable with any transformations you would like to perform on your data.** (Hint: You will need to do at least one)\n",
    "* **Pass your `transformations` variable to `torch.datasets.MNIST`. This allows you to perform arbitrary transformations to your data at loading time.**"
   ]
  },
  {
   "cell_type": "code",
   "execution_count": 2,
   "metadata": {
    "colab": {},
    "colab_type": "code",
    "id": "acNAlKImT7Ta"
   },
   "outputs": [],
   "source": [
    "from torchvision import datasets, transforms\n",
    "\n",
    "transformations = transforms.Compose([\n",
    "                               transforms.ToTensor(),\n",
    "                               transforms.Normalize(\n",
    "                                 (0.1000,), (0.3000,))\n",
    "                             ])\n",
    "\n",
    "mnist_train = datasets.MNIST(root='./hw9_data', train=True, download=True, transform=transformations) \n",
    "mnist_test = datasets.MNIST(root='./hw9_data', train=False, download=True, transform=transformations) "
   ]
  },
  {
   "cell_type": "markdown",
   "metadata": {
    "colab_type": "text",
    "id": "jH35P-FcULyr"
   },
   "source": [
    "**Any file in our dataset will now be read at runtime, and the specified transformations we need on it will be applied when we need it.**. \n",
    "\n",
    "We could iterate through these directly using a loop, but this is not idiomatic. PyTorch provides us with this abstraction in the form of `DataLoaders`. The module of interest is `torch.utils.data.DataLoader`. \n",
    "\n",
    "`DataLoader` allows us to do lots of useful things\n",
    "* Group our data into batches\n",
    "* Shuffle our data\n",
    "* Load the data in parallel using `multiprocessing` workers\n",
    "\n",
    "**Use `DataLoader` to create a loader for the training set and one for the testing set**\n",
    "* **Use a `batch_size` of 32 to start, you may change it if you wish.**\n",
    "* **Set the `shuffle` parameter to `True`.** \n",
    "\n",
    "**Check that the data was loaded successfully before proceeding to the next sections. **"
   ]
  },
  {
   "cell_type": "code",
   "execution_count": 3,
   "metadata": {
    "colab": {},
    "colab_type": "code",
    "id": "q3DO5eriUhZF"
   },
   "outputs": [
    {
     "data": {
      "text/plain": [
       "<torch._C.Generator at 0x1160d8eb0>"
      ]
     },
     "execution_count": 3,
     "metadata": {},
     "output_type": "execute_result"
    }
   ],
   "source": [
    "from torch.utils.data import DataLoader\n",
    "\n",
    "train_loader = torch.utils.data.DataLoader(dataset=mnist_train,\n",
    "                                           batch_size=32, \n",
    "                                           shuffle=True)\n",
    "test_loader = torch.utils.data.DataLoader(dataset=mnist_test,\n",
    "                                           batch_size=len(mnist_test), \n",
    "                                           shuffle=False)\n",
    "\n",
    "random_seed = 1\n",
    "log_interval= 100\n",
    "torch.backends.cudnn.enabled = False\n",
    "torch.manual_seed(random_seed)"
   ]
  },
  {
   "cell_type": "markdown",
   "metadata": {
    "colab_type": "text",
    "id": "EccGF9s3UgOm"
   },
   "source": [
    "## **Part 2 - Encoder and Decoders (0 points)**\n",
    "\n",
    "In this section we will be creating the encoder and decoder for our variational autoencoder (VAE). \n",
    "\n",
    "You can take a look at the following to understand how VAE's work. \n",
    "\n",
    "*   https://towardsdatascience.com/intuitively-understanding-variational-autoencoders-1bfe67eb5daf\n",
    "*  http://kvfrans.com/variational-autoencoders-explained/\n",
    "*  https://jmetzen.github.io/2015-11-27/vae.html\n",
    "\n",
    "VAEs work around a latent space who's dimension can be chosen by us. We will leave this as a parameter for the Encoder and Decoder classes that you will have to populate. \n",
    "\n",
    "Feel free to use any network architecture that you wish. Try simpler network structures like a few linear layers before trying anything more complicated. \n",
    "\n",
    "### For the Encoder:\n",
    "\n",
    "*   **Finish the __init__() function.**\n",
    "*  **Finish the forward() function.** \n",
    "*  **Assume that input to forward, x, is of shape (batch_size, 28,28)**\n",
    "*  **forward() should return two tensors of size latent_dim like a standard encoder of a VAE**\n",
    "* **One of the tensors should correspond to the mean of the encoding and the other tensor should correspond to the variance. In practice, it is easier to model the output as the log of the variance (logvar) and we will too**\n",
    "\n",
    "### For the Decoder:\n",
    "\n",
    "*   **Finish the __init__() function.**\n",
    "*  **Finish the forward() function.** \n",
    "*  **Assume that input to forward, x, is of shape (batch_size, latent_dim)**\n",
    "*  **forward() should return a tensor of shape (batch_size, 28,28)**\n",
    "* **Make sure that the output lies in the same range as the input to the encoder (Hint: Sigmoid?)**\n",
    "\n",
    "\n",
    "\n",
    "\n",
    "\n"
   ]
  },
  {
   "cell_type": "code",
   "execution_count": 25,
   "metadata": {
    "colab": {},
    "colab_type": "code",
    "id": "NL4wDY2TYVGP"
   },
   "outputs": [],
   "source": [
    "from torch import nn\n",
    "class Encoder(nn.Module):\n",
    "    def __init__(self, latent_dim):\n",
    "        super(Encoder, self).__init__()\n",
    "        self.fc1 = nn.Linear(784, 400)\n",
    "        # rectified linear unit layer from 400 to 400\n",
    "        # max(0, x)\n",
    "        self.relu = nn.ReLU()\n",
    "        self.fc21 = nn.Linear(400, latent_dim)  # mu layer\n",
    "        self.fc22 = nn.Linear(400, latent_dim)  # logvariance l\n",
    "  \n",
    "    def forward(self, x):\n",
    "        # h1 is [32, 400]\n",
    "        x = x.view(-1, 784)\n",
    "        h1 = self.relu(self.fc1(x))\n",
    "        return self.fc21(h1), self.fc22(h1)\n",
    "\n",
    "class Decoder(nn.Module):\n",
    "    def __init__(self, latent_dim):\n",
    "        super(Decoder, self).__init__()\n",
    "        # from bottleneck to hidden 400\n",
    "        self.relu = nn.ReLU()\n",
    "        self.fc3 = nn.Linear(latent_dim, 400)\n",
    "        # from hidden 400 to 784 outputs\n",
    "        self.fc4 = nn.Linear(400, 784)\n",
    "        self.sigmoid = nn.Sigmoid()\n",
    "    \n",
    "    def forward(self,x):\n",
    "        #x = x.view(-1, 20)\n",
    "        h3 = self.relu(self.fc3(x))\n",
    "        return self.sigmoid(self.fc4(h3))"
   ]
  },
  {
   "cell_type": "markdown",
   "metadata": {
    "colab_type": "text",
    "id": "I9Su2FOMZG93"
   },
   "source": [
    "## **Part 3: Training and loss functions** (0 points)\n",
    "\n",
    "Recall that the encoder outputs the mean (mu) and the log of the variance (logvar). This implies that the latent vector of the input image follows a gaussian distribution with mean (mu) and standard deviation (e^[0.5\\*logvar]). To decode this information, the decoder needs a sample from this distribution. \n",
    "\n",
    "**Complete the sample function to generate these samples **"
   ]
  },
  {
   "cell_type": "code",
   "execution_count": 20,
   "metadata": {
    "colab": {},
    "colab_type": "code",
    "id": "0-w9oxDddxSc"
   },
   "outputs": [],
   "source": [
    "def sample(mu, logvar):\n",
    "    std = logvar.mul(0.5).exp_()\n",
    "    eps = Variable(std.data.new(std.size()).normal_())\n",
    "    return eps.mul(std).add_(mu) #[32,20 ]\n"
   ]
  },
  {
   "cell_type": "markdown",
   "metadata": {
    "colab_type": "text",
    "id": "4wUHpN7hd-6h"
   },
   "source": [
    "We also need to create the loss function. Assume that x are your input images and x_hat are your reconstructions of these input images, complete the following loss for a VAE. (Hint: You will need to use mu and logvar as well)"
   ]
  },
  {
   "cell_type": "code",
   "execution_count": 29,
   "metadata": {
    "colab": {},
    "colab_type": "code",
    "id": "7esviVxoecxX"
   },
   "outputs": [],
   "source": [
    "def vae_loss(x, x_hat, mu, logvar):\n",
    "    # MSE LOSS + KL DIVERGENCE\n",
    "    MSE = ((x_hat - x.view(-1, 784))**2).mean()\n",
    "    KLD = -0.5 * torch.sum(1 + logvar - mu.pow(2) - logvar.exp())\n",
    "    KLD /= 32 * 784 #batch_size*28*28\n",
    "\n",
    "    return MSE + KLD"
   ]
  },
  {
   "cell_type": "markdown",
   "metadata": {
    "colab_type": "text",
    "id": "m5T1tOI0exar"
   },
   "source": [
    "In the following we will instantiate an Encoder and Decoder with a latent dimension of 32.\n",
    "\n",
    "We also define a single optimizer that optimizes the parameters of both the Encoder and the Decoder together. Feel free to use any optimizer of your choice. "
   ]
  },
  {
   "cell_type": "code",
   "execution_count": 43,
   "metadata": {
    "colab": {},
    "colab_type": "code",
    "id": "0JGv_rs2fJkA"
   },
   "outputs": [],
   "source": [
    "from torch import optim\n",
    "from torchvision.utils import save_image\n",
    "from torch.autograd import Variable\n",
    "\n",
    "encoder = Encoder(32)\n",
    "decoder = Decoder(32)\n",
    "params = list(encoder.parameters())+list(decoder.parameters())\n",
    "optimizer = optim.Adam(params, lr=1e-3)"
   ]
  },
  {
   "cell_type": "markdown",
   "metadata": {
    "colab_type": "text",
    "id": "RwJkFq5cfn0w"
   },
   "source": [
    "Complete the train function that takes input encoder, decoder, train_loader, optimizer, and number of epochs you wish to train your model for.\n",
    "\n",
    "Training will involve:\n",
    "\n",
    "1.   **One epoch is defined as a full pass of your dataset through your model. We choose the number of epochs we wish to train our model for.**\n",
    "2.   **For each batch, use the encoder to generate the mu and logvar.**\n",
    "3. **Sample a latent vector for each image in the batch and feed this to the decoder to generate the decoded images.**\n",
    "4. **Calculate the loss function for this batch.**\n",
    "5. **Now calculate the gradients for each parameter you are optimizing over. (Hint: Your loss function object can do this for you)**\n",
    "6. **Update your model parameters (Hint: The optimizer comes in here)**\n",
    "7. ** Set the gradients in your model to zero for the next batch.**\n",
    "\n"
   ]
  },
  {
   "cell_type": "code",
   "execution_count": 44,
   "metadata": {
    "colab": {},
    "colab_type": "code",
    "id": "F17NVLO8hkP8"
   },
   "outputs": [],
   "source": [
    "def train_internal(epoch, encoder, decoder, train_loader, optimizer):\n",
    "    # toggle model to train mode\n",
    "    #model.train()\n",
    "    train_loss = 0\n",
    "    # in the case of MNIST, len(train_loader.dataset) is 60000\n",
    "    # each `data` is of BATCH_SIZE samples and has shape [128, 1, 28, 28]\n",
    "    for batch_idx, (data, _) in enumerate(train_loader):\n",
    "        data = Variable(data)\n",
    "        optimizer.zero_grad()\n",
    "\n",
    "        # push whole batch of data through VAE.forward() to get recon_loss\n",
    "        mu, logvar = encoder(data)\n",
    "        z = sample(mu, logvar)\n",
    "        decoded_images = decoder(z)\n",
    "        # calculate scalar loss\n",
    "        loss = vae_loss(data, decoded_images, mu, logvar)\n",
    "        # calculate the gradient of the loss w.r.t. the graph leaves\n",
    "        # i.e. input variables -- by the power of pytorch!\n",
    "        loss.backward()\n",
    "        train_loss += loss.item()\n",
    "        optimizer.step()\n",
    "        if batch_idx % log_interval == 0:\n",
    "            print('Train Epoch: {} [{}/{} ({:.0f}%)]\\tLoss: {:.6f}'.format(\n",
    "                epoch, batch_idx * len(data), len(train_loader.dataset),\n",
    "                100. * batch_idx / len(train_loader),\n",
    "                loss.item() / len(data)))\n",
    "\n",
    "    print('====> Epoch: {} Average loss: {:.4f}'.format(\n",
    "          epoch, train_loss / len(train_loader.dataset)))\n",
    "\n",
    "\n",
    "def train(encoder, decoder, train_loader, optimizer, num_epochs = 10):\n",
    "    for epoch in range(1, num_epochs + 1):\n",
    "        train_internal(epoch, encoder, decoder, train_loader, optimizer)\n",
    "        "
   ]
  },
  {
   "cell_type": "markdown",
   "metadata": {
    "colab_type": "text",
    "id": "dLIjuvFkhuxH"
   },
   "source": [
    "Finally call train with the relevant parameters.\n",
    "\n",
    "Note : This function may take a while to complete if you're training for many epochs on a cpu. This is where it comes in handy to be running on Google Colab, or just have a GPU on hand."
   ]
  },
  {
   "cell_type": "code",
   "execution_count": 45,
   "metadata": {
    "colab": {},
    "colab_type": "code",
    "id": "puFTbp4Nh2Hb"
   },
   "outputs": [
    {
     "name": "stdout",
     "output_type": "stream",
     "text": [
      "Train Epoch: 1 [0/60000 (0%)]\tLoss: 0.038478\n",
      "Train Epoch: 1 [3200/60000 (5%)]\tLoss: 0.022570\n",
      "Train Epoch: 1 [6400/60000 (11%)]\tLoss: 0.020423\n",
      "Train Epoch: 1 [9600/60000 (16%)]\tLoss: 0.019762\n",
      "Train Epoch: 1 [12800/60000 (21%)]\tLoss: 0.021088\n",
      "Train Epoch: 1 [16000/60000 (27%)]\tLoss: 0.018991\n",
      "Train Epoch: 1 [19200/60000 (32%)]\tLoss: 0.018771\n",
      "Train Epoch: 1 [22400/60000 (37%)]\tLoss: 0.019335\n",
      "Train Epoch: 1 [25600/60000 (43%)]\tLoss: 0.018908\n",
      "Train Epoch: 1 [28800/60000 (48%)]\tLoss: 0.018377\n",
      "Train Epoch: 1 [32000/60000 (53%)]\tLoss: 0.019650\n",
      "Train Epoch: 1 [35200/60000 (59%)]\tLoss: 0.018719\n",
      "Train Epoch: 1 [38400/60000 (64%)]\tLoss: 0.018310\n",
      "Train Epoch: 1 [41600/60000 (69%)]\tLoss: 0.018696\n",
      "Train Epoch: 1 [44800/60000 (75%)]\tLoss: 0.018165\n",
      "Train Epoch: 1 [48000/60000 (80%)]\tLoss: 0.016688\n",
      "Train Epoch: 1 [51200/60000 (85%)]\tLoss: 0.018396\n",
      "Train Epoch: 1 [54400/60000 (91%)]\tLoss: 0.019470\n",
      "Train Epoch: 1 [57600/60000 (96%)]\tLoss: 0.020550\n",
      "====> Epoch: 1 Average loss: 0.0198\n",
      "Train Epoch: 2 [0/60000 (0%)]\tLoss: 0.017581\n",
      "Train Epoch: 2 [3200/60000 (5%)]\tLoss: 0.018017\n",
      "Train Epoch: 2 [6400/60000 (11%)]\tLoss: 0.018736\n",
      "Train Epoch: 2 [9600/60000 (16%)]\tLoss: 0.019301\n",
      "Train Epoch: 2 [12800/60000 (21%)]\tLoss: 0.018336\n",
      "Train Epoch: 2 [16000/60000 (27%)]\tLoss: 0.017610\n",
      "Train Epoch: 2 [19200/60000 (32%)]\tLoss: 0.018550\n",
      "Train Epoch: 2 [22400/60000 (37%)]\tLoss: 0.017939\n",
      "Train Epoch: 2 [25600/60000 (43%)]\tLoss: 0.018463\n",
      "Train Epoch: 2 [28800/60000 (48%)]\tLoss: 0.019966\n",
      "Train Epoch: 2 [32000/60000 (53%)]\tLoss: 0.019325\n",
      "Train Epoch: 2 [35200/60000 (59%)]\tLoss: 0.017719\n",
      "Train Epoch: 2 [38400/60000 (64%)]\tLoss: 0.018332\n",
      "Train Epoch: 2 [41600/60000 (69%)]\tLoss: 0.018139\n",
      "Train Epoch: 2 [44800/60000 (75%)]\tLoss: 0.019115\n",
      "Train Epoch: 2 [48000/60000 (80%)]\tLoss: 0.018989\n",
      "Train Epoch: 2 [51200/60000 (85%)]\tLoss: 0.017582\n",
      "Train Epoch: 2 [54400/60000 (91%)]\tLoss: 0.018039\n",
      "Train Epoch: 2 [57600/60000 (96%)]\tLoss: 0.019498\n",
      "====> Epoch: 2 Average loss: 0.0184\n",
      "Train Epoch: 3 [0/60000 (0%)]\tLoss: 0.017890\n",
      "Train Epoch: 3 [3200/60000 (5%)]\tLoss: 0.017538\n",
      "Train Epoch: 3 [6400/60000 (11%)]\tLoss: 0.017056\n",
      "Train Epoch: 3 [9600/60000 (16%)]\tLoss: 0.018973\n",
      "Train Epoch: 3 [12800/60000 (21%)]\tLoss: 0.017959\n",
      "Train Epoch: 3 [16000/60000 (27%)]\tLoss: 0.017065\n",
      "Train Epoch: 3 [19200/60000 (32%)]\tLoss: 0.017377\n",
      "Train Epoch: 3 [22400/60000 (37%)]\tLoss: 0.019333\n",
      "Train Epoch: 3 [25600/60000 (43%)]\tLoss: 0.018973\n",
      "Train Epoch: 3 [28800/60000 (48%)]\tLoss: 0.018658\n",
      "Train Epoch: 3 [32000/60000 (53%)]\tLoss: 0.017638\n",
      "Train Epoch: 3 [35200/60000 (59%)]\tLoss: 0.017231\n",
      "Train Epoch: 3 [38400/60000 (64%)]\tLoss: 0.016860\n",
      "Train Epoch: 3 [41600/60000 (69%)]\tLoss: 0.017518\n",
      "Train Epoch: 3 [44800/60000 (75%)]\tLoss: 0.016138\n",
      "Train Epoch: 3 [48000/60000 (80%)]\tLoss: 0.019428\n",
      "Train Epoch: 3 [51200/60000 (85%)]\tLoss: 0.017020\n",
      "Train Epoch: 3 [54400/60000 (91%)]\tLoss: 0.018507\n",
      "Train Epoch: 3 [57600/60000 (96%)]\tLoss: 0.018558\n",
      "====> Epoch: 3 Average loss: 0.0181\n",
      "Train Epoch: 4 [0/60000 (0%)]\tLoss: 0.018711\n",
      "Train Epoch: 4 [3200/60000 (5%)]\tLoss: 0.016665\n",
      "Train Epoch: 4 [6400/60000 (11%)]\tLoss: 0.017639\n",
      "Train Epoch: 4 [9600/60000 (16%)]\tLoss: 0.015329\n",
      "Train Epoch: 4 [12800/60000 (21%)]\tLoss: 0.017037\n",
      "Train Epoch: 4 [16000/60000 (27%)]\tLoss: 0.017844\n",
      "Train Epoch: 4 [19200/60000 (32%)]\tLoss: 0.018396\n",
      "Train Epoch: 4 [22400/60000 (37%)]\tLoss: 0.018301\n",
      "Train Epoch: 4 [25600/60000 (43%)]\tLoss: 0.017400\n",
      "Train Epoch: 4 [28800/60000 (48%)]\tLoss: 0.016772\n",
      "Train Epoch: 4 [32000/60000 (53%)]\tLoss: 0.017196\n",
      "Train Epoch: 4 [35200/60000 (59%)]\tLoss: 0.017054\n",
      "Train Epoch: 4 [38400/60000 (64%)]\tLoss: 0.017468\n",
      "Train Epoch: 4 [41600/60000 (69%)]\tLoss: 0.017515\n",
      "Train Epoch: 4 [44800/60000 (75%)]\tLoss: 0.019056\n",
      "Train Epoch: 4 [48000/60000 (80%)]\tLoss: 0.017242\n",
      "Train Epoch: 4 [51200/60000 (85%)]\tLoss: 0.018241\n",
      "Train Epoch: 4 [54400/60000 (91%)]\tLoss: 0.017395\n",
      "Train Epoch: 4 [57600/60000 (96%)]\tLoss: 0.017949\n",
      "====> Epoch: 4 Average loss: 0.0179\n",
      "Train Epoch: 5 [0/60000 (0%)]\tLoss: 0.016294\n",
      "Train Epoch: 5 [3200/60000 (5%)]\tLoss: 0.017016\n",
      "Train Epoch: 5 [6400/60000 (11%)]\tLoss: 0.017599\n",
      "Train Epoch: 5 [9600/60000 (16%)]\tLoss: 0.017062\n",
      "Train Epoch: 5 [12800/60000 (21%)]\tLoss: 0.018063\n",
      "Train Epoch: 5 [16000/60000 (27%)]\tLoss: 0.018671\n",
      "Train Epoch: 5 [19200/60000 (32%)]\tLoss: 0.018492\n",
      "Train Epoch: 5 [22400/60000 (37%)]\tLoss: 0.018548\n",
      "Train Epoch: 5 [25600/60000 (43%)]\tLoss: 0.017722\n",
      "Train Epoch: 5 [28800/60000 (48%)]\tLoss: 0.017709\n",
      "Train Epoch: 5 [32000/60000 (53%)]\tLoss: 0.017749\n",
      "Train Epoch: 5 [35200/60000 (59%)]\tLoss: 0.017191\n",
      "Train Epoch: 5 [38400/60000 (64%)]\tLoss: 0.018142\n",
      "Train Epoch: 5 [41600/60000 (69%)]\tLoss: 0.016509\n",
      "Train Epoch: 5 [44800/60000 (75%)]\tLoss: 0.018634\n",
      "Train Epoch: 5 [48000/60000 (80%)]\tLoss: 0.016783\n",
      "Train Epoch: 5 [51200/60000 (85%)]\tLoss: 0.019036\n",
      "Train Epoch: 5 [54400/60000 (91%)]\tLoss: 0.018343\n",
      "Train Epoch: 5 [57600/60000 (96%)]\tLoss: 0.018220\n",
      "====> Epoch: 5 Average loss: 0.0178\n",
      "Train Epoch: 6 [0/60000 (0%)]\tLoss: 0.018909\n",
      "Train Epoch: 6 [3200/60000 (5%)]\tLoss: 0.017942\n",
      "Train Epoch: 6 [6400/60000 (11%)]\tLoss: 0.017209\n",
      "Train Epoch: 6 [9600/60000 (16%)]\tLoss: 0.018469\n",
      "Train Epoch: 6 [12800/60000 (21%)]\tLoss: 0.018488\n",
      "Train Epoch: 6 [16000/60000 (27%)]\tLoss: 0.016666\n",
      "Train Epoch: 6 [19200/60000 (32%)]\tLoss: 0.017402\n",
      "Train Epoch: 6 [22400/60000 (37%)]\tLoss: 0.017236\n",
      "Train Epoch: 6 [25600/60000 (43%)]\tLoss: 0.018580\n",
      "Train Epoch: 6 [28800/60000 (48%)]\tLoss: 0.017478\n",
      "Train Epoch: 6 [32000/60000 (53%)]\tLoss: 0.017284\n",
      "Train Epoch: 6 [35200/60000 (59%)]\tLoss: 0.017336\n",
      "Train Epoch: 6 [38400/60000 (64%)]\tLoss: 0.017678\n",
      "Train Epoch: 6 [41600/60000 (69%)]\tLoss: 0.018535\n",
      "Train Epoch: 6 [44800/60000 (75%)]\tLoss: 0.017041\n",
      "Train Epoch: 6 [48000/60000 (80%)]\tLoss: 0.017386\n",
      "Train Epoch: 6 [51200/60000 (85%)]\tLoss: 0.018739\n",
      "Train Epoch: 6 [54400/60000 (91%)]\tLoss: 0.019046\n",
      "Train Epoch: 6 [57600/60000 (96%)]\tLoss: 0.017921\n",
      "====> Epoch: 6 Average loss: 0.0178\n",
      "Train Epoch: 7 [0/60000 (0%)]\tLoss: 0.018001\n",
      "Train Epoch: 7 [3200/60000 (5%)]\tLoss: 0.017388\n",
      "Train Epoch: 7 [6400/60000 (11%)]\tLoss: 0.017317\n",
      "Train Epoch: 7 [9600/60000 (16%)]\tLoss: 0.019071\n",
      "Train Epoch: 7 [12800/60000 (21%)]\tLoss: 0.017944\n",
      "Train Epoch: 7 [16000/60000 (27%)]\tLoss: 0.015870\n",
      "Train Epoch: 7 [19200/60000 (32%)]\tLoss: 0.017901\n",
      "Train Epoch: 7 [22400/60000 (37%)]\tLoss: 0.018247\n",
      "Train Epoch: 7 [25600/60000 (43%)]\tLoss: 0.017049\n",
      "Train Epoch: 7 [28800/60000 (48%)]\tLoss: 0.018111\n",
      "Train Epoch: 7 [32000/60000 (53%)]\tLoss: 0.017296\n",
      "Train Epoch: 7 [35200/60000 (59%)]\tLoss: 0.017618\n",
      "Train Epoch: 7 [38400/60000 (64%)]\tLoss: 0.017154\n",
      "Train Epoch: 7 [41600/60000 (69%)]\tLoss: 0.017750\n",
      "Train Epoch: 7 [44800/60000 (75%)]\tLoss: 0.017945\n",
      "Train Epoch: 7 [48000/60000 (80%)]\tLoss: 0.017905\n",
      "Train Epoch: 7 [51200/60000 (85%)]\tLoss: 0.018616\n",
      "Train Epoch: 7 [54400/60000 (91%)]\tLoss: 0.017844\n",
      "Train Epoch: 7 [57600/60000 (96%)]\tLoss: 0.017211\n",
      "====> Epoch: 7 Average loss: 0.0177\n",
      "Train Epoch: 8 [0/60000 (0%)]\tLoss: 0.018608\n",
      "Train Epoch: 8 [3200/60000 (5%)]\tLoss: 0.018837\n",
      "Train Epoch: 8 [6400/60000 (11%)]\tLoss: 0.016400\n",
      "Train Epoch: 8 [9600/60000 (16%)]\tLoss: 0.018235\n",
      "Train Epoch: 8 [12800/60000 (21%)]\tLoss: 0.018939\n",
      "Train Epoch: 8 [16000/60000 (27%)]\tLoss: 0.016848\n",
      "Train Epoch: 8 [19200/60000 (32%)]\tLoss: 0.018574\n",
      "Train Epoch: 8 [22400/60000 (37%)]\tLoss: 0.018741\n",
      "Train Epoch: 8 [25600/60000 (43%)]\tLoss: 0.017699\n",
      "Train Epoch: 8 [28800/60000 (48%)]\tLoss: 0.018028\n",
      "Train Epoch: 8 [32000/60000 (53%)]\tLoss: 0.017468\n",
      "Train Epoch: 8 [35200/60000 (59%)]\tLoss: 0.017154\n",
      "Train Epoch: 8 [38400/60000 (64%)]\tLoss: 0.018120\n",
      "Train Epoch: 8 [41600/60000 (69%)]\tLoss: 0.016539\n",
      "Train Epoch: 8 [44800/60000 (75%)]\tLoss: 0.018393\n",
      "Train Epoch: 8 [48000/60000 (80%)]\tLoss: 0.018223\n",
      "Train Epoch: 8 [51200/60000 (85%)]\tLoss: 0.016909\n",
      "Train Epoch: 8 [54400/60000 (91%)]\tLoss: 0.016816\n",
      "Train Epoch: 8 [57600/60000 (96%)]\tLoss: 0.017122\n",
      "====> Epoch: 8 Average loss: 0.0177\n",
      "Train Epoch: 9 [0/60000 (0%)]\tLoss: 0.019536\n",
      "Train Epoch: 9 [3200/60000 (5%)]\tLoss: 0.015770\n",
      "Train Epoch: 9 [6400/60000 (11%)]\tLoss: 0.017875\n",
      "Train Epoch: 9 [9600/60000 (16%)]\tLoss: 0.017466\n",
      "Train Epoch: 9 [12800/60000 (21%)]\tLoss: 0.017932\n",
      "Train Epoch: 9 [16000/60000 (27%)]\tLoss: 0.019602\n",
      "Train Epoch: 9 [19200/60000 (32%)]\tLoss: 0.018544\n",
      "Train Epoch: 9 [22400/60000 (37%)]\tLoss: 0.017052\n"
     ]
    },
    {
     "name": "stdout",
     "output_type": "stream",
     "text": [
      "Train Epoch: 9 [25600/60000 (43%)]\tLoss: 0.017245\n",
      "Train Epoch: 9 [28800/60000 (48%)]\tLoss: 0.019705\n",
      "Train Epoch: 9 [32000/60000 (53%)]\tLoss: 0.016292\n",
      "Train Epoch: 9 [35200/60000 (59%)]\tLoss: 0.017314\n",
      "Train Epoch: 9 [38400/60000 (64%)]\tLoss: 0.018198\n",
      "Train Epoch: 9 [41600/60000 (69%)]\tLoss: 0.017689\n",
      "Train Epoch: 9 [44800/60000 (75%)]\tLoss: 0.017920\n",
      "Train Epoch: 9 [48000/60000 (80%)]\tLoss: 0.020520\n",
      "Train Epoch: 9 [51200/60000 (85%)]\tLoss: 0.018232\n",
      "Train Epoch: 9 [54400/60000 (91%)]\tLoss: 0.017486\n",
      "Train Epoch: 9 [57600/60000 (96%)]\tLoss: 0.017382\n",
      "====> Epoch: 9 Average loss: 0.0177\n",
      "Train Epoch: 10 [0/60000 (0%)]\tLoss: 0.017438\n",
      "Train Epoch: 10 [3200/60000 (5%)]\tLoss: 0.017238\n",
      "Train Epoch: 10 [6400/60000 (11%)]\tLoss: 0.017642\n",
      "Train Epoch: 10 [9600/60000 (16%)]\tLoss: 0.017246\n",
      "Train Epoch: 10 [12800/60000 (21%)]\tLoss: 0.017679\n",
      "Train Epoch: 10 [16000/60000 (27%)]\tLoss: 0.016993\n",
      "Train Epoch: 10 [19200/60000 (32%)]\tLoss: 0.016751\n",
      "Train Epoch: 10 [22400/60000 (37%)]\tLoss: 0.017152\n",
      "Train Epoch: 10 [25600/60000 (43%)]\tLoss: 0.018701\n",
      "Train Epoch: 10 [28800/60000 (48%)]\tLoss: 0.017463\n",
      "Train Epoch: 10 [32000/60000 (53%)]\tLoss: 0.017700\n",
      "Train Epoch: 10 [35200/60000 (59%)]\tLoss: 0.017411\n",
      "Train Epoch: 10 [38400/60000 (64%)]\tLoss: 0.017661\n",
      "Train Epoch: 10 [41600/60000 (69%)]\tLoss: 0.017778\n",
      "Train Epoch: 10 [44800/60000 (75%)]\tLoss: 0.018157\n",
      "Train Epoch: 10 [48000/60000 (80%)]\tLoss: 0.017102\n",
      "Train Epoch: 10 [51200/60000 (85%)]\tLoss: 0.017942\n",
      "Train Epoch: 10 [54400/60000 (91%)]\tLoss: 0.017854\n",
      "Train Epoch: 10 [57600/60000 (96%)]\tLoss: 0.015427\n",
      "====> Epoch: 10 Average loss: 0.0177\n"
     ]
    }
   ],
   "source": [
    "train(encoder, decoder, train_loader, optimizer, num_epochs = 10)"
   ]
  },
  {
   "cell_type": "markdown",
   "metadata": {
    "colab_type": "text",
    "id": "-ml3F2uSh7-p"
   },
   "source": [
    "## **Part 4: Visualizing the VAE output** (90 points)\n",
    "\n",
    "We will look at how well the codes produced by the VAE can be interpolated. **For this section we will only use the MNIST test set. **\n",
    "\n",
    "To create an interpolation between two images A and B, we encode both these images and generate a sample code for each of them. We now consider 7 equally spaced points in between these two sample codes giving us a total of 9 points including the samples. We then decode these images to get interpolated images in between A and B.\n",
    "\n",
    "Complete the interpolation function below that takes a pair of images A and B and returns 9 images. (You are free to use any data structure you want to return these images)"
   ]
  },
  {
   "cell_type": "code",
   "execution_count": 46,
   "metadata": {
    "colab": {},
    "colab_type": "code",
    "id": "JRE_LDjNjnAX"
   },
   "outputs": [],
   "source": [
    "import matplotlib.pyplot as plt\n",
    "from torchvision import utils\n",
    "%matplotlib inline\n",
    "import numpy as np\n",
    "from scipy.interpolate import interp2d\n",
    "\n",
    "def interpolate(x, y):\n",
    "    X, Y = np.meshgrid(x, y)\n",
    "    Z = np.sin(np.pi*X/2) * np.exp(Y/2)\n",
    "\n",
    "    x2 = np.linspace(0, 4, 65)\n",
    "    y2 = np.linspace(0, 4, 65)\n",
    "    f = interp2d(x, y, Z, kind='cubic')\n",
    "    Z2 = f(x2, y2)\n",
    "\n",
    "    fig, ax = plt.subplots(nrows=1, ncols=2)\n",
    "    ax[0].pcolormesh(X, Y, Z)\n",
    "\n",
    "    X2, Y2 = np.meshgrid(x2, y2)\n",
    "    ax[1].pcolormesh(X2, Y2, Z2)\n",
    "\n",
    "    plt.show()\n",
    "\n",
    "def create_interpolates(A, B, encoder, decoder):\n",
    "    mu_a, var_a = encoder(A)\n",
    "    mu_b, var_b = encoder(B)\n",
    "    sample_a = sample(mu_a, var_a)\n",
    "    sample_b = sample(mu_b, var_b)\n",
    "    interpolate(sample_a.detach().numpy(),sample_b.detach().numpy())\n",
    "   "
   ]
  },
  {
   "cell_type": "markdown",
   "metadata": {
    "colab_type": "text",
    "id": "uCBT8zvEk_zn"
   },
   "source": [
    "**For 10 pairs of MNIST test images of the same digit (1 pair for \"0\", 1 pair for \"1\", etc.), selected at random, compute the code for each image of the pair. Now compute 7 evenly spaced linear interpolates between these codes, and decode the result into images. Prepare a figure showing this interpolate. Lay out the figure so each interpolate is a row. On the left of the row is the first test image; then the interpolate closest to it; etc; to the last test image. You should have a 10 rows (1 row per digit) and 9 columns (7 interpolates + 2 selected test images) of images. (45 points)**"
   ]
  },
  {
   "cell_type": "code",
   "execution_count": 47,
   "metadata": {
    "colab": {},
    "colab_type": "code",
    "id": "zoaMBIu0jABd"
   },
   "outputs": [
    {
     "data": {
      "image/png": "[encoded data removed]",
      "text/plain": [
       "<Figure size 432x288 with 2 Axes>"
      ]
     },
     "metadata": {
      "needs_background": "light"
     },
     "output_type": "display_data"
    },
    {
     "data": {
      "image/png": "[encoded data removed]",
      "text/plain": [
       "<Figure size 432x288 with 2 Axes>"
      ]
     },
     "metadata": {
      "needs_background": "light"
     },
     "output_type": "display_data"
    },
    {
     "data": {
      "image/png": "[encoded data removed]",
      "text/plain": [
       "<Figure size 432x288 with 2 Axes>"
      ]
     },
     "metadata": {
      "needs_background": "light"
     },
     "output_type": "display_data"
    },
    {
     "data": {
      "image/png": "[encoded data removed]",
      "text/plain": [
       "<Figure size 432x288 with 2 Axes>"
      ]
     },
     "metadata": {
      "needs_background": "light"
     },
     "output_type": "display_data"
    },
    {
     "data": {
      "image/png": "[encoded data removed]",
      "text/plain": [
       "<Figure size 432x288 with 2 Axes>"
      ]
     },
     "metadata": {
      "needs_background": "light"
     },
     "output_type": "display_data"
    },
    {
     "data": {
      "image/png": "[encoded data removed]",
      "text/plain": [
       "<Figure size 432x288 with 2 Axes>"
      ]
     },
     "metadata": {
      "needs_background": "light"
     },
     "output_type": "display_data"
    },
    {
     "data": {
      "image/png": "[encoded data removed]",
      "text/plain": [
       "<Figure size 432x288 with 2 Axes>"
      ]
     },
     "metadata": {
      "needs_background": "light"
     },
     "output_type": "display_data"
    },
    {
     "data": {
      "image/png": "[encoded data removed]",
      "text/plain": [
       "<Figure size 432x288 with 2 Axes>"
      ]
     },
     "metadata": {
      "needs_background": "light"
     },
     "output_type": "display_data"
    },
    {
     "data": {
      "image/png": "[encoded data removed]",
      "text/plain": [
       "<Figure size 432x288 with 2 Axes>"
      ]
     },
     "metadata": {
      "needs_background": "light"
     },
     "output_type": "display_data"
    },
    {
     "data": {
      "image/png": "[encoded data removed]",
      "text/plain": [
       "<Figure size 432x288 with 2 Axes>"
      ]
     },
     "metadata": {
      "needs_background": "light"
     },
     "output_type": "display_data"
    }
   ],
   "source": [
    "similar_pairs = {}\n",
    "for _, (x, y) in enumerate(test_loader):\n",
    "    for i in range(len(y)):\n",
    "        if y[i].item() not in similar_pairs:\n",
    "            similar_pairs[y[i].item()] = []\n",
    "        if len(similar_pairs[y[i].item()])<2:\n",
    "            similar_pairs[y[i].item()].append(x[i])\n",
    "  \n",
    "    done = True\n",
    "    for i in range(10):\n",
    "        if i not in similar_pairs or len(similar_pairs[i])<2:\n",
    "            done = False\n",
    "  \n",
    "    if done:\n",
    "        break\n",
    "\n",
    "# similar_pairs[i] contains two images indexed at 0 and 1 that have images of the digit i\n",
    "for i in range(10):\n",
    "    create_interpolates(similar_pairs[i][0],similar_pairs[i][1],encoder, decoder)"
   ]
  },
  {
   "cell_type": "markdown",
   "metadata": {
    "colab_type": "text",
    "id": "k4q7-6jTlQj9"
   },
   "source": [
    "**For 10 pairs of MNIST test images, selected at random, compute the code for each image of the pair. Now compute 7 evenly spaced linear interpolates between these codes, and decode the result into images. Prepare a figure showing this interpolate. Lay out the figure so each interpolate is a row. On the left of the row is the first test image; then the interpolate closest to it; etc; to the last test image. You should have a 10 rows and 9 columns of images. (45 points)**"
   ]
  },
  {
   "cell_type": "code",
   "execution_count": null,
   "metadata": {
    "colab": {},
    "colab_type": "code",
    "id": "iKgDR1L-lU11"
   },
   "outputs": [],
   "source": [
    "random_pairs = {}\n",
    "for _, (x, y) in enumerate(test_loader):\n",
    "  # Make sure the batch size is greater than 20\n",
    "    for i in range(10):\n",
    "        random_pairs[i] = []\n",
    "        random_pairs[i].append(x[2*i])\n",
    "        random_pairs[i].append(x[2*i+1])\n",
    "    break\n",
    "\n",
    "# random_pairs[i] contains two images indexed at 0 and 1 that are chosen at random\n",
    "\n",
    "## YOUR CODE HERE ##\n",
    "\n",
    "\n"
   ]
  },
  {
   "cell_type": "code",
   "execution_count": null,
   "metadata": {},
   "outputs": [],
   "source": []
  }
 ],
 "metadata": {
  "colab": {
   "collapsed_sections": [],
   "name": "HW9.ipynb",
   "provenance": [],
   "version": "0.3.2"
  },
  "kernelspec": {
   "display_name": "Python 3",
   "language": "python",
   "name": "python3"
  },
  "language_info": {
   "codemirror_mode": {
    "name": "ipython",
    "version": 3
   },
   "file_extension": ".py",
   "mimetype": "text/x-python",
   "name": "python",
   "nbconvert_exporter": "python",
   "pygments_lexer": "ipython3",
   "version": "3.7.2"
  }
 },
 "nbformat": 4,
 "nbformat_minor": 1
}
