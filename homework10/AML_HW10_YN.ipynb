{
  "nbformat": 4,
  "nbformat_minor": 0,
  "metadata": {
    "colab": {
      "name": "AML_HW10.ipynb",
      "version": "0.3.2",
      "provenance": [],
      "collapsed_sections": [],
      "toc_visible": true
    },
    "language_info": {
      "codemirror_mode": {
        "name": "ipython",
        "version": 3
      },
      "file_extension": ".py",
      "mimetype": "text/x-python",
      "name": "python",
      "nbconvert_exporter": "python",
      "pygments_lexer": "ipython3",
      "version": "3.7.2"
    },
    "kernelspec": {
      "display_name": "Python 3",
      "language": "python",
      "name": "python3"
    },
    "accelerator": "GPU"
  },
  "cells": [
    {
      "metadata": {
        "colab_type": "text",
        "id": "vUTgGUi4JEft"
      },
      "cell_type": "markdown",
      "source": [
        "# Homework 10 - CIFAR10 Image Classification with PyTorch"
      ]
    },
    {
      "metadata": {
        "colab_type": "text",
        "id": "T5Kx8gJBJEW_"
      },
      "cell_type": "markdown",
      "source": [
        "## About"
      ]
    },
    {
      "metadata": {
        "colab_type": "text",
        "id": "aRAalfd1GITX"
      },
      "cell_type": "markdown",
      "source": [
        "The goal of the homework is to train a convolutional neural network on the standard CIFAR10 image classfication dataset.\n",
        "\n",
        "When solving machine learning tasks using neural networks, one typically starts with a simple network architecture and then improves the network by adding new layers, retraining, adjusting parameters, retraining, etc.  We attempt to illustrate this process below with several architecture improvements.\n"
      ]
    },
    {
      "metadata": {
        "colab_type": "text",
        "id": "OCl5gakxJes-"
      },
      "cell_type": "markdown",
      "source": [
        "## Dev Environment\n",
        "### Working on Google Colab\n",
        "You may choose to work locally or on Google Colaboratory. You have access to free compute through this service.   Colab is recommended since it will be setup correctly and will have access to GPU resources.\n",
        "1. Visit https://colab.research.google.com/drive \n",
        "2. Navigate to the **`Upload`** tab, and upload your `HW10.ipynb`\n",
        "3. Now on the top right corner, under the `Comment` and `Share` options, you should see a `Connect` option. Once you are connected, you will have access to a VM with 12GB RAM, 50 GB disk space and a single GPU. The dropdown menu will allow you to connect to a local runtime as well.\n",
        "\n",
        "**Notes:** \n",
        "* **If you do not have a working setup for Python 3, this is your best bet. It will also save you from heavy installations like `tensorflow` if you don't want to deal with those.**\n",
        "* ***There is a downside*. You can only use this instance for a single 12-hour stretch, after which your data will be deleted, and you would have redownload all your datasets, any libraries not already on the VM, and regenerate your logs**.\n",
        "\n",
        "\n",
        "### Installing PyTorch and Dependencies\n",
        "\n",
        "The instructions for installing and setting up PyTorch can be found at https://pytorch.org/get-started/locally/. Make sure you follow the instructions for your machine. For any of the remaining libraries used in this assignment:\n",
        "* We have provided a `hw8_requirements.txt` file on the homework web page. \n",
        "* Download this file, and in the same directory you can run `pip3 install -r hw8_requirements.txt`\n",
        "​\n",
        "Check that PyTorch installed correctly by running the following:"
      ]
    },
    {
      "metadata": {
        "colab_type": "code",
        "id": "IaJ6BLrAJeCU",
        "outputId": "0cb5c043-5748-4557-9951-1745c3c72cf8",
        "colab": {
          "base_uri": "https://localhost:8080/",
          "height": 102
        }
      },
      "cell_type": "code",
      "source": [
        "import torch\n",
        "torch.rand(5, 3)"
      ],
      "execution_count": 0,
      "outputs": [
        {
          "output_type": "execute_result",
          "data": {
            "text/plain": [
              "tensor([[0.9364, 0.5404, 0.9596],\n",
              "        [0.1278, 0.2186, 0.1552],\n",
              "        [0.6275, 0.7113, 0.2736],\n",
              "        [0.5143, 0.1998, 0.4328],\n",
              "        [0.1229, 0.6455, 0.3999]])"
            ]
          },
          "metadata": {
            "tags": []
          },
          "execution_count": 1
        }
      ]
    },
    {
      "metadata": {
        "colab_type": "text",
        "id": "nEmmCk1IJiGn"
      },
      "cell_type": "markdown",
      "source": [
        "## Part 0 Imports and Basic Setup  (5 Points)"
      ]
    },
    {
      "metadata": {
        "colab_type": "text",
        "id": "Y3mTddKuXPBU"
      },
      "cell_type": "markdown",
      "source": [
        "First, import the required libraries as follows. The libraries we will use will be the same as those in HW8. "
      ]
    },
    {
      "metadata": {
        "colab_type": "code",
        "id": "UwtDsq3VbrNY",
        "colab": {}
      },
      "cell_type": "code",
      "source": [
        "import numpy as np\n",
        "import torch\n",
        "from torch import nn\n",
        "from torch import optim\n",
        "\n",
        "import matplotlib.pyplot as plt"
      ],
      "execution_count": 0,
      "outputs": []
    },
    {
      "metadata": {
        "colab_type": "text",
        "id": "QWKp_UGlWTyR"
      },
      "cell_type": "markdown",
      "source": [
        "**GPU Support**\n",
        "\n",
        "Training of large network can take a long time. PyTorch supports GPU with just a small amount of effort.\n",
        "\n",
        "When creating our networks, we will call \n",
        "`net.to(device)` to tell the network to train on the GPU, if one is available.  Note, if the network utilizes the GPU, it is important that any tensors we use with it (such as the data) also reside on the CPU.  Thus, a call like `images = images.to(device)` is necessary with any data we want to use with the GPU.\n",
        "\n",
        "Note: If you can't get access to a GPU, don't worry to much.  Since we use very small networks, the difference between CPU and GPU isn't large and in some cases GPU will actually be slower."
      ]
    },
    {
      "metadata": {
        "colab_type": "code",
        "id": "gbGGmnIXYca9",
        "outputId": "3693ab0b-1696-4ae6-938b-a1f03cbf80e0",
        "colab": {
          "base_uri": "https://localhost:8080/",
          "height": 34
        }
      },
      "cell_type": "code",
      "source": [
        "import torch.cuda as cuda\n",
        "\n",
        "# Use a GPU, i.e. cuda:0 device if it available.\n",
        "device = torch.device(\"cuda:0\" if cuda.is_available() else \"cpu\")\n",
        "print(device)"
      ],
      "execution_count": 0,
      "outputs": [
        {
          "output_type": "stream",
          "text": [
            "cuda:0\n"
          ],
          "name": "stdout"
        }
      ]
    },
    {
      "metadata": {
        "id": "AbZT7yOzuNSm",
        "colab_type": "text"
      },
      "cell_type": "markdown",
      "source": [
        "### Training Code"
      ]
    },
    {
      "metadata": {
        "cellView": "form",
        "colab_type": "code",
        "id": "_DZm8ammPCbL",
        "colab": {}
      },
      "cell_type": "code",
      "source": [
        "import time\n",
        "\n",
        "class Flatten(nn.Module):\n",
        "  \"\"\"NN Module that flattens the incoming tensor.\"\"\"\n",
        "  def forward(self, input):\n",
        "    return input.view(input.size(0), -1)\n",
        "  \n",
        "def train(model, train_loader, test_loader, loss_func, opt, num_epochs=10):\n",
        "  all_training_loss = np.zeros((0,2))\n",
        "  all_training_acc = np.zeros((0,2))\n",
        "  all_test_loss = np.zeros((0,2))\n",
        "  all_test_acc = np.zeros((0,2))\n",
        "  \n",
        "  training_step = 0\n",
        "  training_loss, training_acc = 2.0, 0.0\n",
        "  print_every = 1000\n",
        "  \n",
        "  start = time.clock()\n",
        "  \n",
        "  for i in range(num_epochs):\n",
        "    epoch_start = time.clock() \n",
        "   \n",
        "    model.train()\n",
        "    for images, labels in train_loader:\n",
        "      images, labels = images.to(device), labels.to(device)\n",
        "      opt.zero_grad()\n",
        "\n",
        "      preds = model(images)\n",
        "      loss = loss_func(preds, labels)\n",
        "      loss.backward()\n",
        "      opt.step()\n",
        "      \n",
        "      training_loss += loss.item()\n",
        "      training_acc += (torch.argmax(preds, dim=1)==labels).float().mean()\n",
        "      \n",
        "      if training_step % print_every == 0:\n",
        "        training_loss /= print_every\n",
        "        training_acc /= print_every\n",
        "        \n",
        "        all_training_loss = np.concatenate((all_training_loss, [[training_step, training_loss]]))\n",
        "        all_training_acc = np.concatenate((all_training_acc, [[training_step, training_acc]]))\n",
        "        \n",
        "        print('  Epoch %d @ step %d: Train Loss: %3f, Train Accuracy: %3f' % (\n",
        "            i, training_step, training_loss, training_acc))\n",
        "        training_loss, training_acc = 0.0, 0.0\n",
        "        \n",
        "      training_step+=1\n",
        "\n",
        "    model.eval()\n",
        "    with torch.no_grad():\n",
        "      validation_loss, validation_acc = 0.0, 0.0\n",
        "      count = 0\n",
        "      for images, labels in test_loader:\n",
        "        images, labels = images.to(device), labels.to(device)\n",
        "        output = model(images)\n",
        "        validation_loss+=loss_func(output,labels)\n",
        "        validation_acc+=(torch.argmax(output, dim=1) == labels).float().mean()\n",
        "        count += 1\n",
        "      validation_loss/=count\n",
        "      validation_acc/=count\n",
        "      \n",
        "      all_test_loss = np.concatenate((all_test_loss, [[training_step, validation_loss]]))\n",
        "      all_test_acc = np.concatenate((all_test_acc, [[training_step, validation_acc]]))\n",
        "      \n",
        "      epoch_time = time.clock() - epoch_start\n",
        "      \n",
        "      print('Epoch %d Test Loss: %3f, Test Accuracy: %3f, time: %.1fs' % (\n",
        "          i, validation_loss, validation_acc, epoch_time))\n",
        "      \n",
        "  total_time = time.clock() - start\n",
        "  print('Final Test Loss: %3f, Test Accuracy: %3f, Total time: %.1fs' % (\n",
        "      validation_loss, validation_acc, total_time))\n",
        "\n",
        "  return {'loss': { 'train': all_training_loss, 'test': all_test_loss },\n",
        "          'accuracy': { 'train': all_training_acc, 'test': all_test_acc }}\n",
        "\n",
        "def plot_graphs(model_name, metrics):\n",
        "  for metric, values in metrics.items():\n",
        "    for name, v in values.items():\n",
        "      plt.plot(v[:,0], v[:,1], label=name)\n",
        "    plt.title(f'{metric} for {model_name}')\n",
        "    plt.legend()\n",
        "    plt.xlabel(\"Training Steps\")\n",
        "    plt.ylabel(metric)\n",
        "    plt.show()\n",
        "    "
      ],
      "execution_count": 0,
      "outputs": []
    },
    {
      "metadata": {
        "colab_type": "text",
        "id": "1RupXQbCaXb3"
      },
      "cell_type": "markdown",
      "source": [
        "Load the** CIFA-10** dataset and define the transformations. You may also want to print its structure, size, as well as sample a few images to get a sense of how to design the network. "
      ]
    },
    {
      "metadata": {
        "colab_type": "code",
        "id": "mIJmLIgaZ_d3",
        "colab": {}
      },
      "cell_type": "code",
      "source": [
        "!mkdir hw10_data"
      ],
      "execution_count": 0,
      "outputs": []
    },
    {
      "metadata": {
        "colab_type": "code",
        "id": "aDBbPmPPaQuG",
        "outputId": "d2686cbc-2364-4d59-e9a8-280b4bb3e981",
        "colab": {
          "base_uri": "https://localhost:8080/",
          "height": 51
        }
      },
      "cell_type": "code",
      "source": [
        "# Download the data.\n",
        "from torchvision import datasets, transforms\n",
        "\n",
        "transformations = transforms.Compose(\n",
        "    [transforms.ToTensor(),\n",
        "     transforms.Normalize((0.5, 0.5, 0.5), (0.5, 0.5, 0.5))])\n",
        "train_set = datasets.CIFAR10(root='hw10_data/', download=True, transform=transformations)\n",
        "test_set = datasets.CIFAR10(root='hw10_data', download=True, train=False, transform=transformations)"
      ],
      "execution_count": 6,
      "outputs": [
        {
          "output_type": "stream",
          "text": [
            "\r0it [00:00, ?it/s]"
          ],
          "name": "stderr"
        },
        {
          "output_type": "stream",
          "text": [
            "Downloading https://www.cs.toronto.edu/~kriz/cifar-10-python.tar.gz to hw10_data/cifar-10-python.tar.gz\n"
          ],
          "name": "stdout"
        },
        {
          "output_type": "stream",
          "text": [
            "100%|█████████▉| 170434560/170498071 [00:52<00:00, 2538437.60it/s]"
          ],
          "name": "stderr"
        },
        {
          "output_type": "stream",
          "text": [
            "Files already downloaded and verified\n"
          ],
          "name": "stdout"
        }
      ]
    },
    {
      "metadata": {
        "colab_type": "text",
        "id": "dfomsGyJiKz9"
      },
      "cell_type": "markdown",
      "source": [
        "Use `DataLoader` to create a loader for the training set and a loader for the testing set. You can use a `batch_size` of 8 to start, and change it if you wish."
      ]
    },
    {
      "metadata": {
        "colab_type": "code",
        "id": "Ioe04mbSiQiV",
        "colab": {
          "base_uri": "https://localhost:8080/",
          "height": 34
        },
        "outputId": "be2779ce-32f2-4529-e04d-fafbd2da0825"
      },
      "cell_type": "code",
      "source": [
        "from torch.utils.data import DataLoader\n",
        "\n",
        "batch_size = 8\n",
        "train_loader = torch.utils.data.DataLoader(train_set, batch_size, shuffle=True, num_workers=2)\n",
        "test_loader = torch.utils.data.DataLoader(test_set, batch_size, shuffle=True, num_workers=2)\n",
        "\n",
        "input_shape = np.array(train_set[0][0]).shape\n",
        "print(input_shape)\n",
        "input_dim = input_shape[1]*input_shape[2]*input_shape[0]\n"
      ],
      "execution_count": 7,
      "outputs": [
        {
          "output_type": "stream",
          "text": [
            "(3, 32, 32)\n"
          ],
          "name": "stdout"
        }
      ]
    },
    {
      "metadata": {
        "colab_type": "code",
        "id": "fGoPdmuUOOiE",
        "colab": {}
      },
      "cell_type": "code",
      "source": [
        "training_epochs = 5"
      ],
      "execution_count": 0,
      "outputs": []
    },
    {
      "metadata": {
        "colab_type": "text",
        "id": "3T2-qkh8frqF"
      },
      "cell_type": "markdown",
      "source": [
        "## Part 1 CIFAR10 with Fully Connected Neural Netowrk (25 Points)\n",
        "\n",
        "As a warm-up, let's begin by training a two-layer fully connected neural network model on ** CIFAR-10** dataset. You may go back to check HW8 for some basics.\n",
        "\n",
        "We will give you this code to use as a baseline to compare against your CNN models."
      ]
    },
    {
      "metadata": {
        "colab_type": "code",
        "id": "Ck1CGpRycRFE",
        "colab": {
          "base_uri": "https://localhost:8080/",
          "height": 663
        },
        "outputId": "75e3f4e3-3cad-4605-bc36-8bbb21ad8dcd"
      },
      "cell_type": "code",
      "source": [
        "class TwoLayerModel(nn.Module):\n",
        "  def __init__(self):\n",
        "    super(TwoLayerModel, self).__init__()\n",
        "    self.net = nn.Sequential(\n",
        "      Flatten(), \n",
        "      nn.Linear(input_dim, 64), \n",
        "      nn.ReLU(), \n",
        "      nn.Linear(64, 10))\n",
        "    \n",
        "  def forward(self, x):\n",
        "    return self.net(x)\n",
        "\n",
        "model = TwoLayerModel().to(device)\n",
        "\n",
        "loss = nn.CrossEntropyLoss()\n",
        "optimizer = optim.RMSprop(model.parameters(), lr=0.001, weight_decay=0.01)\n",
        "\n",
        "# Training epoch should be about 15-20 sec each on GPU.\n",
        "metrics = train(model, train_loader, test_loader, loss, optimizer, training_epochs)"
      ],
      "execution_count": 9,
      "outputs": [
        {
          "output_type": "stream",
          "text": [
            "  Epoch 0 @ step 0: Train Loss: 0.004291, Train Accuracy: 0.000000\n",
            "  Epoch 0 @ step 1000: Train Loss: 1.944849, Train Accuracy: 0.328000\n"
          ],
          "name": "stdout"
        },
        {
          "output_type": "stream",
          "text": [
            "\r170500096it [01:10, 2538437.60it/s]                               "
          ],
          "name": "stderr"
        },
        {
          "output_type": "stream",
          "text": [
            "  Epoch 0 @ step 2000: Train Loss: 1.805035, Train Accuracy: 0.347250\n",
            "  Epoch 0 @ step 3000: Train Loss: 1.778369, Train Accuracy: 0.366875\n",
            "  Epoch 0 @ step 4000: Train Loss: 1.766875, Train Accuracy: 0.364375\n",
            "  Epoch 0 @ step 5000: Train Loss: 1.763225, Train Accuracy: 0.368125\n",
            "  Epoch 0 @ step 6000: Train Loss: 1.753186, Train Accuracy: 0.381500\n",
            "Epoch 0 Test Loss: 1.739087, Test Accuracy: 0.375500, time: 16.7s\n",
            "  Epoch 1 @ step 7000: Train Loss: 1.743060, Train Accuracy: 0.381375\n",
            "  Epoch 1 @ step 8000: Train Loss: 1.745742, Train Accuracy: 0.375250\n",
            "  Epoch 1 @ step 9000: Train Loss: 1.736032, Train Accuracy: 0.377875\n",
            "  Epoch 1 @ step 10000: Train Loss: 1.757530, Train Accuracy: 0.374500\n",
            "  Epoch 1 @ step 11000: Train Loss: 1.734715, Train Accuracy: 0.384000\n",
            "  Epoch 1 @ step 12000: Train Loss: 1.721562, Train Accuracy: 0.388125\n",
            "Epoch 1 Test Loss: 1.714903, Test Accuracy: 0.388500, time: 17.0s\n",
            "  Epoch 2 @ step 13000: Train Loss: 1.733305, Train Accuracy: 0.386125\n",
            "  Epoch 2 @ step 14000: Train Loss: 1.745609, Train Accuracy: 0.380375\n",
            "  Epoch 2 @ step 15000: Train Loss: 1.740802, Train Accuracy: 0.385625\n",
            "  Epoch 2 @ step 16000: Train Loss: 1.725710, Train Accuracy: 0.377875\n",
            "  Epoch 2 @ step 17000: Train Loss: 1.740757, Train Accuracy: 0.377750\n",
            "  Epoch 2 @ step 18000: Train Loss: 1.727212, Train Accuracy: 0.385500\n",
            "Epoch 2 Test Loss: 1.693281, Test Accuracy: 0.389200, time: 16.3s\n",
            "  Epoch 3 @ step 19000: Train Loss: 1.715894, Train Accuracy: 0.387000\n",
            "  Epoch 3 @ step 20000: Train Loss: 1.745918, Train Accuracy: 0.374000\n",
            "  Epoch 3 @ step 21000: Train Loss: 1.726672, Train Accuracy: 0.381375\n",
            "  Epoch 3 @ step 22000: Train Loss: 1.735019, Train Accuracy: 0.386625\n",
            "  Epoch 3 @ step 23000: Train Loss: 1.736892, Train Accuracy: 0.382500\n",
            "  Epoch 3 @ step 24000: Train Loss: 1.722161, Train Accuracy: 0.385625\n",
            "Epoch 3 Test Loss: 1.694010, Test Accuracy: 0.397400, time: 17.5s\n",
            "  Epoch 4 @ step 25000: Train Loss: 1.730446, Train Accuracy: 0.385500\n",
            "  Epoch 4 @ step 26000: Train Loss: 1.718084, Train Accuracy: 0.391125\n",
            "  Epoch 4 @ step 27000: Train Loss: 1.713241, Train Accuracy: 0.390375\n",
            "  Epoch 4 @ step 28000: Train Loss: 1.709670, Train Accuracy: 0.397625\n",
            "  Epoch 4 @ step 29000: Train Loss: 1.755337, Train Accuracy: 0.377500\n",
            "  Epoch 4 @ step 30000: Train Loss: 1.729972, Train Accuracy: 0.381000\n",
            "  Epoch 4 @ step 31000: Train Loss: 1.743853, Train Accuracy: 0.376500\n",
            "Epoch 4 Test Loss: 1.696116, Test Accuracy: 0.386500, time: 17.8s\n",
            "Final Test Loss: 1.696116, Test Accuracy: 0.386500, Total time: 85.4s\n"
          ],
          "name": "stdout"
        }
      ]
    },
    {
      "metadata": {
        "colab_type": "text",
        "id": "qjbncuMnKpf7"
      },
      "cell_type": "markdown",
      "source": [
        "**Plot the model results**\n",
        "\n",
        "Normally we would want to use Tensorboard for looking at metrics.  However, if colab reset while we are working, we might lose our logs and therefore our metrics.  Let's just plot some graphs that will survive across colab instances."
      ]
    },
    {
      "metadata": {
        "colab_type": "code",
        "id": "CuVL9MJ_D92h",
        "colab": {
          "base_uri": "https://localhost:8080/",
          "height": 573
        },
        "outputId": "674571fc-063a-4870-9f3e-4809b5ebcd89"
      },
      "cell_type": "code",
      "source": [
        "plot_graphs(\"TwoLayerModel\", metrics)"
      ],
      "execution_count": 10,
      "outputs": [
        {
          "output_type": "display_data",
          "data": {
            "image/png": "[encoded data removed]",
            "text/plain": [
              "<Figure size 432x288 with 1 Axes>"
            ]
          },
          "metadata": {
            "tags": []
          }
        },
        {
          "output_type": "display_data",
          "data": {
            "image/png": "[encoded data removed]",
            "text/plain": [
              "<Figure size 432x288 with 1 Axes>"
            ]
          },
          "metadata": {
            "tags": []
          }
        }
      ]
    },
    {
      "metadata": {
        "colab_type": "text",
        "id": "4_xi8bkkfsM7"
      },
      "cell_type": "markdown",
      "source": [
        "## Part 2 Convolutional Neural Network (CNN) (35 Points)\n",
        "\n",
        "Now, let's design a convolution neural netwrok!\n",
        "\n",
        "Build a simple CNN model, inserting 2 CNN layers in from of our 2 layer fully connect model from above:\n",
        "\n",
        "1. A convolution with\t3x3 filter, 16 output channels, stride = 1, padding=1\n",
        "2. A ReLU activation\n",
        "2. A Max-Pooling layer with 2x2 window\n",
        "3. A convolution,\t3x3 filter, 16 output channels, stride = 1, padding=1\n",
        "4. A ReLU activation\n",
        "4. Flatten layer\n",
        "5. Fully connected linear layer with output size 64\n",
        "6. ReLU\n",
        "7. Fully connected linear layer, with output size 10\n",
        "\n",
        "You will have to figure out the input sizes of the first fully connnected layer based on the previous layer sizes. Note that you also need to fill those in the report section (see report section in the notebook for details) "
      ]
    },
    {
      "metadata": {
        "colab_type": "code",
        "id": "tLXjjywngO7g",
        "scrolled": false,
        "colab": {
          "base_uri": "https://localhost:8080/",
          "height": 663
        },
        "outputId": "859b3b4d-da8a-4d2b-8774-800639bbbf3c"
      },
      "cell_type": "code",
      "source": [
        "class ConvModel(nn.Module):\n",
        "    def __init__(self):\n",
        "        super(ConvModel, self).__init__()\n",
        "        \n",
        "        self.layer1 = nn.Sequential(\n",
        "            nn.Conv2d(3, 16, kernel_size=(3,3), stride=1, padding=1), \n",
        "            nn.ReLU(), \n",
        "            nn.MaxPool2d(2),\n",
        "            nn.Conv2d(16, 16, kernel_size=(3,3), stride=1, padding=1),\n",
        "            nn.ReLU(),\n",
        "            Flatten()\n",
        "        )\n",
        "        self.layer2 = nn.Sequential(\n",
        "            nn.Linear(4096, 64),\n",
        "            nn.ReLU(),\n",
        "            nn.Linear(64, 10)\n",
        "        )\n",
        "\n",
        "        \n",
        "    def forward(self, x):\n",
        "        x = self.layer1(x)\n",
        "        #x = x.view(512, 64)\n",
        "        x = self.layer2(x)\n",
        "        return(x)\n",
        "\n",
        "\n",
        "model = ConvModel().to(device)\n",
        "\n",
        "loss = nn.CrossEntropyLoss()\n",
        "optimizer = optim.RMSprop(model.parameters(), lr=0.001, weight_decay=0.01)\n",
        "\n",
        "metrics = train(model, train_loader, test_loader, loss, optimizer, training_epochs)"
      ],
      "execution_count": 11,
      "outputs": [
        {
          "output_type": "stream",
          "text": [
            "  Epoch 0 @ step 0: Train Loss: 0.004317, Train Accuracy: 0.000000\n",
            "  Epoch 0 @ step 1000: Train Loss: 1.841297, Train Accuracy: 0.327500\n",
            "  Epoch 0 @ step 2000: Train Loss: 1.581469, Train Accuracy: 0.429500\n",
            "  Epoch 0 @ step 3000: Train Loss: 1.540653, Train Accuracy: 0.441375\n",
            "  Epoch 0 @ step 4000: Train Loss: 1.467841, Train Accuracy: 0.466000\n",
            "  Epoch 0 @ step 5000: Train Loss: 1.453915, Train Accuracy: 0.470500\n",
            "  Epoch 0 @ step 6000: Train Loss: 1.428663, Train Accuracy: 0.479500\n",
            "Epoch 0 Test Loss: 1.375143, Test Accuracy: 0.508400, time: 23.2s\n",
            "  Epoch 1 @ step 7000: Train Loss: 1.408328, Train Accuracy: 0.484500\n",
            "  Epoch 1 @ step 8000: Train Loss: 1.380295, Train Accuracy: 0.498750\n",
            "  Epoch 1 @ step 9000: Train Loss: 1.392562, Train Accuracy: 0.493000\n",
            "  Epoch 1 @ step 10000: Train Loss: 1.389988, Train Accuracy: 0.504375\n",
            "  Epoch 1 @ step 11000: Train Loss: 1.373805, Train Accuracy: 0.500375\n",
            "  Epoch 1 @ step 12000: Train Loss: 1.341939, Train Accuracy: 0.511625\n",
            "Epoch 1 Test Loss: 1.325339, Test Accuracy: 0.523200, time: 25.3s\n",
            "  Epoch 2 @ step 13000: Train Loss: 1.334434, Train Accuracy: 0.516000\n",
            "  Epoch 2 @ step 14000: Train Loss: 1.315511, Train Accuracy: 0.518500\n",
            "  Epoch 2 @ step 15000: Train Loss: 1.354608, Train Accuracy: 0.510875\n",
            "  Epoch 2 @ step 16000: Train Loss: 1.299141, Train Accuracy: 0.532625\n",
            "  Epoch 2 @ step 17000: Train Loss: 1.315155, Train Accuracy: 0.526750\n",
            "  Epoch 2 @ step 18000: Train Loss: 1.290937, Train Accuracy: 0.535875\n",
            "Epoch 2 Test Loss: 1.260282, Test Accuracy: 0.544400, time: 23.0s\n",
            "  Epoch 3 @ step 19000: Train Loss: 1.293185, Train Accuracy: 0.532750\n",
            "  Epoch 3 @ step 20000: Train Loss: 1.286852, Train Accuracy: 0.534250\n",
            "  Epoch 3 @ step 21000: Train Loss: 1.260341, Train Accuracy: 0.548125\n",
            "  Epoch 3 @ step 22000: Train Loss: 1.269040, Train Accuracy: 0.544500\n",
            "  Epoch 3 @ step 23000: Train Loss: 1.289534, Train Accuracy: 0.541250\n",
            "  Epoch 3 @ step 24000: Train Loss: 1.269951, Train Accuracy: 0.540625\n",
            "Epoch 3 Test Loss: 1.201619, Test Accuracy: 0.575600, time: 23.8s\n",
            "  Epoch 4 @ step 25000: Train Loss: 1.241527, Train Accuracy: 0.554875\n",
            "  Epoch 4 @ step 26000: Train Loss: 1.231387, Train Accuracy: 0.556000\n",
            "  Epoch 4 @ step 27000: Train Loss: 1.246866, Train Accuracy: 0.559625\n",
            "  Epoch 4 @ step 28000: Train Loss: 1.265474, Train Accuracy: 0.549875\n",
            "  Epoch 4 @ step 29000: Train Loss: 1.247644, Train Accuracy: 0.554375\n",
            "  Epoch 4 @ step 30000: Train Loss: 1.237505, Train Accuracy: 0.555625\n",
            "  Epoch 4 @ step 31000: Train Loss: 1.219350, Train Accuracy: 0.563375\n",
            "Epoch 4 Test Loss: 1.198612, Test Accuracy: 0.573700, time: 24.5s\n",
            "Final Test Loss: 1.198612, Test Accuracy: 0.573700, Total time: 119.8s\n"
          ],
          "name": "stdout"
        }
      ]
    },
    {
      "metadata": {
        "colab_type": "code",
        "id": "8BGTJw-TPTfh",
        "colab": {
          "base_uri": "https://localhost:8080/",
          "height": 573
        },
        "outputId": "22bb1719-6b62-4998-c211-af4ab6b171de"
      },
      "cell_type": "code",
      "source": [
        "plot_graphs(\"ConvModel\", metrics)"
      ],
      "execution_count": 12,
      "outputs": [
        {
          "output_type": "display_data",
          "data": {
            "image/png": "[encoded data removed]",
            "text/plain": [
              "<Figure size 432x288 with 1 Axes>"
            ]
          },
          "metadata": {
            "tags": []
          }
        },
        {
          "output_type": "display_data",
          "data": {
            "image/png": "[encoded data removed]",
            "text/plain": [
              "<Figure size 432x288 with 1 Axes>"
            ]
          },
          "metadata": {
            "tags": []
          }
        }
      ]
    },
    {
      "metadata": {
        "colab_type": "text",
        "id": "oFAc6IORmzCJ"
      },
      "cell_type": "markdown",
      "source": [
        "Do you notice the improvement over the accuracy compared to that in Part 1?"
      ]
    },
    {
      "metadata": {
        "colab_type": "text",
        "id": "hXpJgsjhftDP"
      },
      "cell_type": "markdown",
      "source": [
        "## Part 3 Open Design Competition (35 Points + 10 bonus points)\n",
        "\n",
        "Try to beat the previous models by adding additional layers, changing parameters, etc.  You should add at least one layer.\n",
        "\n",
        "Possible changes include:\n",
        "*   Dropout\n",
        "*   Batch Normalization\n",
        "*   More layers\n",
        "*   Residual Connections (harder)\n",
        "*   Change layer size\n",
        "*   Pooling layers, stride\n",
        "*   Different optimizer\n",
        "*   Train for longer\n",
        "\n",
        "Once you have a model you think is great, evaluate it against our hidden test data (see hidden_loader above) and upload the results to the leader board on gradescope.  **The top 3 scorers will get a bonus 10 points.**\n",
        "\n",
        "You can steal model structures found on the internet if you want.  The only constraint is that **you must train the model from scratch**.\n"
      ]
    },
    {
      "metadata": {
        "colab_type": "code",
        "id": "QZFkuraiZOaT",
        "colab": {
          "base_uri": "https://localhost:8080/",
          "height": 1275
        },
        "outputId": "aaf9d684-d029-48be-df4f-718b19e8f8b7"
      },
      "cell_type": "code",
      "source": [
        "class AwesomeModel(nn.Module):\n",
        "\n",
        "    def __init__(self):\n",
        "        super(AwesomeModel, self).__init__()\n",
        "\n",
        "        self.conv_layer = nn.Sequential(\n",
        "\n",
        "            # Conv Layer block 1\n",
        "            nn.Conv2d(in_channels=3, out_channels=32, kernel_size=3, padding=1),\n",
        "            nn.BatchNorm2d(32),\n",
        "            nn.ReLU(inplace=True),\n",
        "            nn.Conv2d(in_channels=32, out_channels=64, kernel_size=3, padding=1),\n",
        "            nn.ReLU(inplace=True),\n",
        "            nn.MaxPool2d(kernel_size=2, stride=2),\n",
        "\n",
        "            # Conv Layer block 2\n",
        "            nn.Conv2d(in_channels=64, out_channels=128, kernel_size=3, padding=1),\n",
        "            nn.BatchNorm2d(128),\n",
        "            nn.ReLU(inplace=True),\n",
        "            nn.Conv2d(in_channels=128, out_channels=128, kernel_size=3, padding=1),\n",
        "            nn.ReLU(inplace=True),\n",
        "            nn.MaxPool2d(kernel_size=2, stride=2),\n",
        "            nn.Dropout2d(p=0.05),\n",
        "\n",
        "            # Conv Layer block 3\n",
        "            nn.Conv2d(in_channels=128, out_channels=256, kernel_size=3, padding=1),\n",
        "            nn.BatchNorm2d(256),\n",
        "            nn.ReLU(inplace=True),\n",
        "            nn.Conv2d(in_channels=256, out_channels=256, kernel_size=3, padding=1),\n",
        "            nn.ReLU(inplace=True),\n",
        "            nn.MaxPool2d(kernel_size=2, stride=2),\n",
        "        )\n",
        "\n",
        "\n",
        "        self.fc_layer = nn.Sequential(\n",
        "            nn.Dropout(p=0.1),\n",
        "            nn.Linear(4096, 1024),\n",
        "            nn.ReLU(inplace=True),\n",
        "            nn.Linear(1024, 512),\n",
        "            nn.ReLU(inplace=True),\n",
        "            nn.Dropout(p=0.1),\n",
        "            nn.Linear(512, 10)\n",
        "        )\n",
        "\n",
        "\n",
        "    def forward(self, x):\n",
        "        \n",
        "        # conv layers\n",
        "        x = self.conv_layer(x)\n",
        "        \n",
        "        # flatten\n",
        "        x = x.view(x.size(0), -1)\n",
        "        \n",
        "        # fc layer\n",
        "        x = self.fc_layer(x)\n",
        "\n",
        "        return x\n",
        "      \n",
        "\n",
        "model = AwesomeModel().to(device)\n",
        "\n",
        "loss = nn.CrossEntropyLoss()\n",
        "optimizer = optim.RMSprop(model.parameters(), lr=0.001, weight_decay=0.01)\n",
        "\n",
        "metrics = train(model, train_loader, test_loader, loss, optimizer, 10)"
      ],
      "execution_count": 13,
      "outputs": [
        {
          "output_type": "stream",
          "text": [
            "  Epoch 0 @ step 0: Train Loss: 0.004316, Train Accuracy: 0.000000\n",
            "  Epoch 0 @ step 1000: Train Loss: 2.331854, Train Accuracy: 0.174250\n",
            "  Epoch 0 @ step 2000: Train Loss: 2.040849, Train Accuracy: 0.209750\n",
            "  Epoch 0 @ step 3000: Train Loss: 1.986191, Train Accuracy: 0.216625\n",
            "  Epoch 0 @ step 4000: Train Loss: 1.962366, Train Accuracy: 0.233250\n",
            "  Epoch 0 @ step 5000: Train Loss: 1.944701, Train Accuracy: 0.244000\n",
            "  Epoch 0 @ step 6000: Train Loss: 1.917569, Train Accuracy: 0.255375\n",
            "Epoch 0 Test Loss: 1.845470, Test Accuracy: 0.258300, time: 50.9s\n",
            "  Epoch 1 @ step 7000: Train Loss: 1.883955, Train Accuracy: 0.263125\n",
            "  Epoch 1 @ step 8000: Train Loss: 1.828654, Train Accuracy: 0.283500\n",
            "  Epoch 1 @ step 9000: Train Loss: 1.802347, Train Accuracy: 0.293875\n",
            "  Epoch 1 @ step 10000: Train Loss: 1.781070, Train Accuracy: 0.316250\n",
            "  Epoch 1 @ step 11000: Train Loss: 1.745737, Train Accuracy: 0.320375\n",
            "  Epoch 1 @ step 12000: Train Loss: 1.728920, Train Accuracy: 0.334625\n",
            "Epoch 1 Test Loss: 1.707522, Test Accuracy: 0.324900, time: 50.7s\n",
            "  Epoch 2 @ step 13000: Train Loss: 1.707651, Train Accuracy: 0.355250\n",
            "  Epoch 2 @ step 14000: Train Loss: 1.671673, Train Accuracy: 0.360875\n",
            "  Epoch 2 @ step 15000: Train Loss: 1.650732, Train Accuracy: 0.369500\n",
            "  Epoch 2 @ step 16000: Train Loss: 1.636294, Train Accuracy: 0.371375\n",
            "  Epoch 2 @ step 17000: Train Loss: 1.610318, Train Accuracy: 0.384500\n",
            "  Epoch 2 @ step 18000: Train Loss: 1.606953, Train Accuracy: 0.389750\n",
            "Epoch 2 Test Loss: 1.639052, Test Accuracy: 0.381500, time: 52.3s\n",
            "  Epoch 3 @ step 19000: Train Loss: 1.596594, Train Accuracy: 0.397375\n",
            "  Epoch 3 @ step 20000: Train Loss: 1.574705, Train Accuracy: 0.402875\n",
            "  Epoch 3 @ step 21000: Train Loss: 1.531529, Train Accuracy: 0.423000\n",
            "  Epoch 3 @ step 22000: Train Loss: 1.500864, Train Accuracy: 0.435125\n",
            "  Epoch 3 @ step 23000: Train Loss: 1.490997, Train Accuracy: 0.440625\n",
            "  Epoch 3 @ step 24000: Train Loss: 1.484994, Train Accuracy: 0.440500\n",
            "Epoch 3 Test Loss: 1.433225, Test Accuracy: 0.459500, time: 50.9s\n",
            "  Epoch 4 @ step 25000: Train Loss: 1.469204, Train Accuracy: 0.448250\n",
            "  Epoch 4 @ step 26000: Train Loss: 1.444418, Train Accuracy: 0.451625\n",
            "  Epoch 4 @ step 27000: Train Loss: 1.443423, Train Accuracy: 0.463750\n",
            "  Epoch 4 @ step 28000: Train Loss: 1.423010, Train Accuracy: 0.474750\n",
            "  Epoch 4 @ step 29000: Train Loss: 1.418013, Train Accuracy: 0.473125\n",
            "  Epoch 4 @ step 30000: Train Loss: 1.393119, Train Accuracy: 0.492250\n",
            "  Epoch 4 @ step 31000: Train Loss: 1.378755, Train Accuracy: 0.494750\n",
            "Epoch 4 Test Loss: 1.528294, Test Accuracy: 0.477900, time: 49.8s\n",
            "  Epoch 5 @ step 32000: Train Loss: 1.364526, Train Accuracy: 0.502500\n",
            "  Epoch 5 @ step 33000: Train Loss: 1.371551, Train Accuracy: 0.497875\n",
            "  Epoch 5 @ step 34000: Train Loss: 1.373965, Train Accuracy: 0.500000\n",
            "  Epoch 5 @ step 35000: Train Loss: 1.303003, Train Accuracy: 0.528750\n",
            "  Epoch 5 @ step 36000: Train Loss: 1.329013, Train Accuracy: 0.515625\n",
            "  Epoch 5 @ step 37000: Train Loss: 1.314164, Train Accuracy: 0.522375\n",
            "Epoch 5 Test Loss: 1.240264, Test Accuracy: 0.544700, time: 50.9s\n",
            "  Epoch 6 @ step 38000: Train Loss: 1.319506, Train Accuracy: 0.519625\n",
            "  Epoch 6 @ step 39000: Train Loss: 1.312024, Train Accuracy: 0.526125\n",
            "  Epoch 6 @ step 40000: Train Loss: 1.313295, Train Accuracy: 0.521875\n",
            "  Epoch 6 @ step 41000: Train Loss: 1.294647, Train Accuracy: 0.532500\n",
            "  Epoch 6 @ step 42000: Train Loss: 1.292175, Train Accuracy: 0.534875\n",
            "  Epoch 6 @ step 43000: Train Loss: 1.304355, Train Accuracy: 0.530375\n",
            "Epoch 6 Test Loss: 1.241300, Test Accuracy: 0.553300, time: 51.5s\n",
            "  Epoch 7 @ step 44000: Train Loss: 1.298108, Train Accuracy: 0.534125\n",
            "  Epoch 7 @ step 45000: Train Loss: 1.295479, Train Accuracy: 0.526125\n",
            "  Epoch 7 @ step 46000: Train Loss: 1.282900, Train Accuracy: 0.534375\n",
            "  Epoch 7 @ step 47000: Train Loss: 1.276135, Train Accuracy: 0.530125\n",
            "  Epoch 7 @ step 48000: Train Loss: 1.275672, Train Accuracy: 0.536500\n",
            "  Epoch 7 @ step 49000: Train Loss: 1.292537, Train Accuracy: 0.532875\n",
            "Epoch 7 Test Loss: 1.202594, Test Accuracy: 0.558500, time: 51.2s\n",
            "  Epoch 8 @ step 50000: Train Loss: 1.273209, Train Accuracy: 0.547125\n",
            "  Epoch 8 @ step 51000: Train Loss: 1.268583, Train Accuracy: 0.545375\n",
            "  Epoch 8 @ step 52000: Train Loss: 1.272592, Train Accuracy: 0.546000\n",
            "  Epoch 8 @ step 53000: Train Loss: 1.272139, Train Accuracy: 0.535375\n",
            "  Epoch 8 @ step 54000: Train Loss: 1.265857, Train Accuracy: 0.545500\n",
            "  Epoch 8 @ step 55000: Train Loss: 1.255459, Train Accuracy: 0.545750\n",
            "  Epoch 8 @ step 56000: Train Loss: 1.261559, Train Accuracy: 0.548500\n",
            "Epoch 8 Test Loss: 1.280013, Test Accuracy: 0.529000, time: 50.4s\n",
            "  Epoch 9 @ step 57000: Train Loss: 1.262924, Train Accuracy: 0.543375\n",
            "  Epoch 9 @ step 58000: Train Loss: 1.255290, Train Accuracy: 0.553125\n",
            "  Epoch 9 @ step 59000: Train Loss: 1.249185, Train Accuracy: 0.554250\n",
            "  Epoch 9 @ step 60000: Train Loss: 1.275529, Train Accuracy: 0.537750\n",
            "  Epoch 9 @ step 61000: Train Loss: 1.270931, Train Accuracy: 0.532375\n",
            "  Epoch 9 @ step 62000: Train Loss: 1.237488, Train Accuracy: 0.553375\n",
            "Epoch 9 Test Loss: 1.226047, Test Accuracy: 0.558200, time: 50.9s\n",
            "Final Test Loss: 1.226047, Test Accuracy: 0.558200, Total time: 509.4s\n"
          ],
          "name": "stdout"
        }
      ]
    },
    {
      "metadata": {
        "colab_type": "text",
        "id": "xbx5REUdc-Xs"
      },
      "cell_type": "markdown",
      "source": [
        "**What changes did you make to improve your model?**"
      ]
    },
    {
      "metadata": {
        "colab_type": "code",
        "id": "uItu0w4fZTuG",
        "colab": {
          "base_uri": "https://localhost:8080/",
          "height": 573
        },
        "outputId": "f4e0327b-aec7-477e-ddcc-d9cdebfbcacd"
      },
      "cell_type": "code",
      "source": [
        "plot_graphs(\"AwesomeModel\", metrics)"
      ],
      "execution_count": 14,
      "outputs": [
        {
          "output_type": "display_data",
          "data": {
            "image/png": "[encoded data removed]",
            "text/plain": [
              "<Figure size 432x288 with 1 Axes>"
            ]
          },
          "metadata": {
            "tags": []
          }
        },
        {
          "output_type": "display_data",
          "data": {
            "image/png": "[encoded data removed]",
            "text/plain": [
              "<Figure size 432x288 with 1 Axes>"
            ]
          },
          "metadata": {
            "tags": []
          }
        }
      ]
    },
    {
      "metadata": {
        "colab_type": "text",
        "id": "rWlP2WsodgK0"
      },
      "cell_type": "markdown",
      "source": [
        "After you get a nice model, download the test_file.zip and unzip it to get test_file.pt. In colab, you can explore your files from the left side bar. You can also download the files to your machine from there."
      ]
    },
    {
      "metadata": {
        "colab_type": "code",
        "id": "Z6UZInUCdfQ1",
        "colab": {
          "base_uri": "https://localhost:8080/",
          "height": 306
        },
        "outputId": "c46a0244-9a3b-4896-9802-b0acd7bba360"
      },
      "cell_type": "code",
      "source": [
        "!wget http://courses.engr.illinois.edu/cs498aml/sp2019/homeworks/test_file.zip\n",
        "!unzip test_file.zip"
      ],
      "execution_count": 15,
      "outputs": [
        {
          "output_type": "stream",
          "text": [
            "--2019-04-22 20:40:43--  http://courses.engr.illinois.edu/cs498aml/sp2019/homeworks/test_file.zip\n",
            "Resolving courses.engr.illinois.edu (courses.engr.illinois.edu)... 130.126.151.9\n",
            "Connecting to courses.engr.illinois.edu (courses.engr.illinois.edu)|130.126.151.9|:80... connected.\n",
            "HTTP request sent, awaiting response... 301 Moved Permanently\n",
            "Location: https://courses.engr.illinois.edu/cs498aml/sp2019/homeworks/test_file.zip [following]\n",
            "--2019-04-22 20:40:43--  https://courses.engr.illinois.edu/cs498aml/sp2019/homeworks/test_file.zip\n",
            "Connecting to courses.engr.illinois.edu (courses.engr.illinois.edu)|130.126.151.9|:443... connected.\n",
            "HTTP request sent, awaiting response... 200 OK\n",
            "Length: 3841776 (3.7M) [application/x-zip-compressed]\n",
            "Saving to: ‘test_file.zip’\n",
            "\n",
            "\rtest_file.zip         0%[                    ]       0  --.-KB/s               \rtest_file.zip        55%[==========>         ]   2.02M  10.1MB/s               \rtest_file.zip       100%[===================>]   3.66M  14.5MB/s    in 0.3s    \n",
            "\n",
            "2019-04-22 20:40:44 (14.5 MB/s) - ‘test_file.zip’ saved [3841776/3841776]\n",
            "\n",
            "Archive:  test_file.zip\n",
            "  inflating: test_file.pt            \n"
          ],
          "name": "stdout"
        }
      ]
    },
    {
      "metadata": {
        "colab_type": "text",
        "id": "7g5caFPreMLT"
      },
      "cell_type": "markdown",
      "source": [
        "Then use your model to predict the label of the test images. Fill the remaining code below, where x has two dimensions (batch_size x one image size). Remember to reshpe x accordingly before feeding it into your model. The submission.txt should contain one predicted label (0~9) each line. Submit your submission.txt to the competition in gradscope."
      ]
    },
    {
      "metadata": {
        "colab_type": "code",
        "id": "yNdYAH9XeLlb",
        "colab": {
          "base_uri": "https://localhost:8080/",
          "height": 2142
        },
        "outputId": "7952e076-ea51-4d6b-d544-57ce4d2e8c5a"
      },
      "cell_type": "code",
      "source": [
        "import torch.utils.data as Data\n",
        "\n",
        "test_file = './test_file.pt'\n",
        "pred_file = './submission.txt'\n",
        "f_pred = open(pred_file,'w') \n",
        "tensor = torch.load(test_file)\n",
        "\n",
        "torch_dataset = Data.TensorDataset(tensor)  \n",
        "test_loader = torch.utils.data.DataLoader(torch_dataset, batch_size, shuffle=False, num_workers=2)\n",
        "\n",
        "for ele in test_loader:\n",
        "    x = ele[0]\n",
        "    x = x.reshape((8, 3, 32, 32))\n",
        "    x = x.to(device)\n",
        "    prediction = model(x)\n",
        "    _, predicted = torch.max(prediction, dim=1) #.data.cpu().numpy().argmax()\n",
        "    predicted = predicted.tolist()[0]\n",
        "    print(predicted)\n",
        "    f_pred.write(str(predicted))\n",
        "    f_pred.write('\\n')\n",
        "    \n",
        "f_pred.close()"
      ],
      "execution_count": 16,
      "outputs": [
        {
          "output_type": "stream",
          "text": [
            "1\n",
            "8\n",
            "6\n",
            "6\n",
            "3\n",
            "0\n",
            "3\n",
            "2\n",
            "5\n",
            "7\n",
            "7\n",
            "6\n",
            "2\n",
            "0\n",
            "5\n",
            "1\n",
            "5\n",
            "8\n",
            "5\n",
            "8\n",
            "4\n",
            "6\n",
            "6\n",
            "9\n",
            "2\n",
            "3\n",
            "2\n",
            "2\n",
            "2\n",
            "5\n",
            "8\n",
            "2\n",
            "2\n",
            "4\n",
            "3\n",
            "9\n",
            "2\n",
            "3\n",
            "7\n",
            "3\n",
            "5\n",
            "6\n",
            "2\n",
            "7\n",
            "5\n",
            "3\n",
            "6\n",
            "3\n",
            "0\n",
            "9\n",
            "6\n",
            "9\n",
            "3\n",
            "8\n",
            "4\n",
            "0\n",
            "6\n",
            "8\n",
            "1\n",
            "5\n",
            "3\n",
            "9\n",
            "8\n",
            "6\n",
            "3\n",
            "9\n",
            "8\n",
            "2\n",
            "7\n",
            "1\n",
            "8\n",
            "8\n",
            "8\n",
            "6\n",
            "7\n",
            "8\n",
            "1\n",
            "9\n",
            "2\n",
            "7\n",
            "9\n",
            "1\n",
            "1\n",
            "4\n",
            "2\n",
            "6\n",
            "9\n",
            "6\n",
            "8\n",
            "6\n",
            "7\n",
            "8\n",
            "4\n",
            "9\n",
            "6\n",
            "6\n",
            "9\n",
            "0\n",
            "8\n",
            "9\n",
            "1\n",
            "3\n",
            "9\n",
            "2\n",
            "0\n",
            "2\n",
            "5\n",
            "0\n",
            "5\n",
            "2\n",
            "9\n",
            "2\n",
            "9\n",
            "2\n",
            "2\n",
            "8\n",
            "3\n",
            "6\n",
            "5\n",
            "2\n",
            "3\n",
            "3\n",
            "5\n",
            "7\n",
            "5\n"
          ],
          "name": "stdout"
        }
      ]
    },
    {
      "metadata": {
        "colab_type": "text",
        "id": "8-L6F0CMqc-A"
      },
      "cell_type": "markdown",
      "source": [
        "\n",
        "# Report\n",
        "\n",
        "## Part 0: Imports and Basic Setup (5 Points)\n",
        "Nothing to report for this part. You will be just scored for finishing the setup.\n",
        "\n",
        "## Part 1: Fully connected neural networks (25 Points)\n",
        "\n",
        "Test (on validation set) accuracy (5 Points):0.393000\n",
        "\n",
        "Test loss (5 Points):1.710990\n",
        "\n",
        "Training time (5 Points):84.4s\n",
        "\n",
        "\n",
        "Plots:\n",
        "\n",
        "- Plot a graph of accuracy on validation set vs training steps (5 Points)\n",
        "\n",
        "- Plot a graph of loss on validation set vs training steps (5 Points)\n",
        "\n",
        "\n",
        "## Part 2: Convolution Network (Basic) (35 Points)\n",
        "\n",
        "Tensor dimensions: A good way to debug your network for size mismatches is to print the dimension of output after every layers:\n",
        "\n",
        "(10 Points)\n",
        "\n",
        "Output dimension after 1st conv layer: tensor with size [8, 16, 32, 32]\n",
        "\n",
        "Output dimension after 1st max pooling: tensor with size [8, 16, 16, 16]\n",
        "\n",
        "Output dimension after 2nd conv layer: tensor with size [8, 16, 32, 32]\n",
        "\n",
        "Output dimension after flatten layer: tensor with size [8, 4096]\n",
        "\n",
        "Output dimension after 1st fully connected layer: [8, 64]\n",
        "\n",
        "Output dimension after 2nd fully connected layer: [8, 10]\n",
        "\n",
        "\n",
        "Test (on validation set) Accuracy (5 Points):0.544800\n",
        "\n",
        "Test loss (5 Points):1.254007\n",
        "\n",
        "Training time (5 Points):123.2s\n",
        "\n",
        "\n",
        "Plots:\n",
        "\n",
        "- Plot a graph of accuracy on validation set vs training steps (5 Points)\n",
        "\n",
        "- Plot a graph of loss on validation set vs training steps (5 Points)\n",
        "\n",
        "\n",
        "\n",
        "## Part 3: Convolution Network (Add one or more  suggested changes) (35 Points)\n",
        "\n",
        "Describe the additional changes implemented, your intuition for as to why it works, you may also describe other approaches you experimented with (10 Points):\n",
        "\n",
        "\n",
        "Test (on validation set) Accuracy (5 Points):\n",
        "\n",
        "Test loss (5 Points):\n",
        "\n",
        "Training time (5 Points):\n",
        "\n",
        "\n",
        "Plots:\n",
        "\n",
        "- Plot a graph of accuracy on validation set vs training steps (5 Points)\n",
        "\n",
        "- Plot a graph of loss on validation set vs training steps (5 Points)\n",
        "\n",
        "10 bonus points will be awarded to top 3 scorers on leaderboard (in case of tie for 3rd position everyone tied for 3rd position will get the bonus)"
      ]
    },
    {
      "metadata": {
        "id": "_Q3EnOsRuNTU",
        "colab_type": "code",
        "colab": {}
      },
      "cell_type": "code",
      "source": [
        ""
      ],
      "execution_count": 0,
      "outputs": []
    }
  ]
}